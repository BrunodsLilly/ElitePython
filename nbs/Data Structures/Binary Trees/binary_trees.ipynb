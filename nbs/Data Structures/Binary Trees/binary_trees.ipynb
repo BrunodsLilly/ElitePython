{
 "cells": [
  {
   "cell_type": "markdown",
   "id": "c8e2cb1a",
   "metadata": {},
   "source": [
    "# Binary Trees: Concepts, Implementation, and Visualization\n",
    "\n",
    "This notebook provides a comprehensive introduction to binary trees, including their structure, terminology, and common operations such as traversal, insertion, deletion, and search. You will learn how to implement and visualize binary trees in Python, and understand the differences between general binary trees and binary search trees (BSTs)."
   ]
  },
  {
   "cell_type": "code",
   "execution_count": 1,
   "id": "5fa06a09",
   "metadata": {},
   "outputs": [],
   "source": [
    "#| default_exp binary_trees"
   ]
  },
  {
   "cell_type": "code",
   "execution_count": 2,
   "id": "9bd3c8a7",
   "metadata": {},
   "outputs": [],
   "source": [
    "#| hide\n",
    "from nbdev.showdoc import *\n",
    "from fastcore.test import *"
   ]
  },
  {
   "cell_type": "code",
   "execution_count": 3,
   "id": "3571bcd0",
   "metadata": {},
   "outputs": [],
   "source": [
    "#| export\n",
    "from collections import deque\n",
    "import matplotlib.pyplot as plt\n",
    "import networkx as nx\n",
    "from typing import Callable, Generator"
   ]
  },
  {
   "cell_type": "markdown",
   "id": "79ae0c2f",
   "metadata": {},
   "source": [
    "## What is a Binary Tree?\n",
    "\n",
    "A **binary tree** is a hierarchical data structure in which each node has at most two children, referred to as the left child and the right child. Binary trees are widely used for efficient data storage, searching, and sorting.\n",
    "\n",
    "**Use cases:**\n",
    "- Expression parsing\n",
    "- Hierarchical data representation\n",
    "- Efficient searching and sorting (e.g., BSTs)"
   ]
  },
  {
   "cell_type": "markdown",
   "id": "19001ea8",
   "metadata": {},
   "source": [
    "## Node Structure\n",
    "\n",
    "Each node in a binary tree contains:\n",
    "- A value (data)\n",
    "- A reference to the left child (or None)\n",
    "- A reference to the right child (or None)\n",
    "\n",
    "Below is a visual representation of a node:\n",
    "\n",
    "![Figure of a node](https://media.geeksforgeeks.org/wp-content/uploads/20240811023858/Binary-Tree-Representation.webp)"
   ]
  },
  {
   "cell_type": "markdown",
   "id": "1e051b30",
   "metadata": {},
   "source": [
    "Creating a Node"
   ]
  },
  {
   "cell_type": "code",
   "execution_count": 4,
   "id": "7f0902d1",
   "metadata": {},
   "outputs": [],
   "source": [
    "class Node:\n",
    "    \"\"\"A node in a binary tree.\"\"\"\n",
    "    def __init__(self, value, left: \"Node|None\"=None, right: \"Node|None\"=None):\n",
    "        self.value = value\n",
    "        self.left: Node|None = left\n",
    "        self.right: Node|None = right\n",
    "    \n",
    "    def __str__(self) -> str:\n",
    "        \"\"\"A string representation of the node including its value, left, and right children.\"\"\"\n",
    "        left_value = f\"Node({self.left.value})\" if self.left else None\n",
    "        right_value = f\"Node({self.right.value})\" if self.right else None\n",
    "        return f\"Node({self.value}, left={left_value}, right={right_value})\"\n",
    "\n",
    "    def __repr__(self) -> str:\n",
    "        return self.__str__()"
   ]
  },
  {
   "cell_type": "markdown",
   "id": "47d85193",
   "metadata": {},
   "source": [
    "Creating a binary tree requires creating a set of nodes."
   ]
  },
  {
   "cell_type": "code",
   "execution_count": 5,
   "id": "29b62cf4",
   "metadata": {},
   "outputs": [
    {
     "data": {
      "text/plain": [
       "Node(1, left=None, right=None)"
      ]
     },
     "execution_count": 5,
     "metadata": {},
     "output_type": "execute_result"
    }
   ],
   "source": [
    "node1 = Node(1)\n",
    "node1"
   ]
  },
  {
   "cell_type": "code",
   "execution_count": 6,
   "id": "d3cb484a",
   "metadata": {},
   "outputs": [
    {
     "data": {
      "text/plain": [
       "Node(1, left=Node(2), right=Node(3))"
      ]
     },
     "execution_count": 6,
     "metadata": {},
     "output_type": "execute_result"
    }
   ],
   "source": [
    "root_node = (\n",
    "    Node(1,\n",
    "        Node(2,\n",
    "            Node(4,\n",
    "                Node(8),\n",
    "                Node(9)\n",
    "            ),\n",
    "            Node(5,\n",
    "                Node(10),\n",
    "                Node(11)\n",
    "            )\n",
    "        ),\n",
    "        Node(3,\n",
    "            Node(6,\n",
    "                Node(12),\n",
    "                Node(13)\n",
    "            ),\n",
    "            Node(7,\n",
    "                Node(14),\n",
    "                Node(15)\n",
    "            )\n",
    "        )\n",
    "    )\n",
    ")\n",
    "root_node"
   ]
  },
  {
   "cell_type": "markdown",
   "id": "e163b13c",
   "metadata": {},
   "source": [
    "## Visualizing a Binary Tree\n",
    "\n",
    "The function below visualizes a binary tree using NetworkX and Matplotlib. It adapts the layout for larger trees, highlights the root, and provides clear node labels. Optionally, you can display parent pointers or other node attributes by customizing the label logic."
   ]
  },
  {
   "cell_type": "code",
   "execution_count": 7,
   "id": "8ea97ca8",
   "metadata": {},
   "outputs": [],
   "source": [
    "#| export\n",
    "def visualize_tree(root, show_parents=False):\n",
    "    \"\"\"Visualize a binary tree using NetworkX and Matplotlib.\n",
    "    Args:\n",
    "        root: The root node of the tree.\n",
    "        show_parents: If True, include parent values in node labels.\n",
    "    \"\"\"\n",
    "    if not root:\n",
    "        print(\"Empty tree\")\n",
    "        return\n",
    "    import math\n",
    "    G = nx.DiGraph()\n",
    "    pos = {}\n",
    "    labels = {}\n",
    "    node_id = 0\n",
    "    node_map = {}\n",
    "    def add_nodes(node, x=0.0, y=0.0, layer=1):\n",
    "        nonlocal node_id\n",
    "        if node:\n",
    "            current_id = node_id\n",
    "            node_map[node] = current_id\n",
    "            node_id += 1\n",
    "            G.add_node(current_id)\n",
    "            pos[current_id] = (x, y)\n",
    "            if show_parents and hasattr(node, 'parent') and node.parent:\n",
    "                labels[current_id] = f\"{node.value}\\n(p:{node.parent.value})\"\n",
    "            else:\n",
    "                labels[current_id] = str(node.value)\n",
    "            if node.left:\n",
    "                left_id = node_id\n",
    "                G.add_edge(current_id, left_id)\n",
    "                add_nodes(node.left, x - 1/(layer+0.5), y - 1, layer + 1)\n",
    "            if node.right:\n",
    "                right_id = node_id\n",
    "                G.add_edge(current_id, right_id)\n",
    "                add_nodes(node.right, x + 1/(layer+0.5), y - 1, layer + 1)\n",
    "            return current_id\n",
    "    add_nodes(root)\n",
    "    # Adaptive figure size\n",
    "    depth = root.height if hasattr(root, 'height') else 3\n",
    "    width = max(6, 2 ** (depth-1))\n",
    "    plt.figure(figsize=(width, depth*2))\n",
    "    # Highlight root\n",
    "    node_colors = [\"#ffcc00\" if n == 0 else \"#90caf9\" for n in G.nodes]\n",
    "    nx.draw(G, pos, labels=labels, with_labels=True, node_color=node_colors,\n",
    "            node_size=1200, font_size=14, font_weight='bold', arrows=True, edge_color=\"#888888\")\n",
    "    plt.title(\"Binary Tree Visualization\")\n",
    "    plt.axis('off')\n",
    "    plt.show()"
   ]
  },
  {
   "cell_type": "markdown",
   "id": "d7a9f82c",
   "metadata": {},
   "source": [
    "## Binary Tree Terminology\n",
    "\n",
    "- **Node**: An object with a value, a left child, and a right child.\n",
    "- **Child**: A left or right node.\n",
    "- **Parent**: A node that has a child node.\n",
    "- **Root**: The topmost node in a tree; it does not have a parent.\n",
    "- **Leaf**: A node with no children.\n",
    "- **Internal**: A node with at least one child node.\n",
    "- **Depth**: The number of edges from a node to the root.\n",
    "- **Height**: The number of edges on the longest path from a node to a leaf.\n",
    "\n",
    "Example diagram:\n",
    "\n",
    "        1 (root)\n",
    "       /   \\\n",
    "      2     3\n",
    "     / \\   / \\\n",
    "    4   5 6   7\n",
    "\n",
    "- Node 1 is the root.\n",
    "- Nodes 4, 5, 6, 7 are leaves.\n",
    "- Node 2 is an internal node.\n",
    "- The depth of node 4 is 2.\n",
    "- The height of the tree is 2."
   ]
  },
  {
   "cell_type": "code",
   "execution_count": 8,
   "id": "46a890ed",
   "metadata": {},
   "outputs": [],
   "source": [
    "#| export\n",
    "class Node:\n",
    "    \"\"\"A node in a binary tree with parent pointer.\"\"\"\n",
    "    __slots__ = ['value', 'parent', 'left', 'right']\n",
    "\n",
    "    def __init__(self, value, left: \"Node|None\"=None, right: \"Node|None\"=None, parent: \"Node|None\"=None):\n",
    "        self.value = value\n",
    "        self.parent: Node|None = parent\n",
    "        self.left: Node|None = left\n",
    "        self.right: Node|None = right\n",
    "    \n",
    "    def __str__(self) -> str:\n",
    "        \"\"\"A string representation of the node including its value, left, right, and parent.\"\"\"\n",
    "        left_value = f\"Node({self.left.value})\" if self.left else None\n",
    "        right_value = f\"Node({self.right.value})\" if self.right else None\n",
    "        parent_value = f\"Node({self.parent.value})\" if self.parent else None\n",
    "        return f\"Node({self.value}, left={left_value}, right={right_value}, parent={parent_value})\"\n",
    "\n",
    "    def __repr__(self) -> str:\n",
    "        return self.__str__()\n",
    "\n",
    "    @property\n",
    "    def height(self) -> int:\n",
    "        \"\"\"Returns the height of the node (longest path to a leaf).\"\"\"\n",
    "        return 1 + max(\n",
    "            (self.left.height if self.left else 0), (self.right.height if self.right else 0)\n",
    "        )\n",
    "    \n",
    "    @property\n",
    "    def depth(self) -> int:\n",
    "        return 0 if self.parent is None else 1 + self.parent.depth"
   ]
  },
  {
   "cell_type": "code",
   "execution_count": 9,
   "id": "d519c384",
   "metadata": {},
   "outputs": [],
   "source": [
    "#| export\n",
    "def set_parents(node: Node, parent: Node|None=None) -> Node:\n",
    "    \"\"\"Set parent nodes given a root node.\"\"\"\n",
    "    if parent:\n",
    "        node.parent = parent\n",
    "    if node.left:\n",
    "        set_parents(node.left, node)\n",
    "    if node.right:\n",
    "        set_parents(node.right, node)\n",
    "    return node"
   ]
  },
  {
   "cell_type": "code",
   "execution_count": 10,
   "id": "d2d65695",
   "metadata": {},
   "outputs": [
    {
     "data": {
      "text/plain": [
       "(None, 4, 0)"
      ]
     },
     "execution_count": 10,
     "metadata": {},
     "output_type": "execute_result"
    }
   ],
   "source": [
    "root_node = set_parents(\n",
    "    Node(1,\n",
    "        Node(2,\n",
    "            Node(4,\n",
    "                Node(8),\n",
    "                Node(9)\n",
    "            ),\n",
    "            Node(5,\n",
    "                Node(10),\n",
    "                Node(11)\n",
    "            )\n",
    "        ),\n",
    "        Node(3,\n",
    "            Node(6,\n",
    "                Node(12),\n",
    "                Node(13)\n",
    "            ),\n",
    "            Node(7,\n",
    "                Node(14),\n",
    "                Node(15)\n",
    "            )\n",
    "        )\n",
    "    )\n",
    ")\n",
    "root_node.parent, root_node.height, root_node.depth\n"
   ]
  },
  {
   "cell_type": "code",
   "execution_count": 11,
   "id": "275b948a",
   "metadata": {},
   "outputs": [
    {
     "name": "stdout",
     "output_type": "stream",
     "text": [
      "Node(2, left=Node(4), right=Node(5), parent=Node(1)) depth: 1\n"
     ]
    }
   ],
   "source": [
    "if root_node.left:\n",
    "    print(root_node.left, \"depth:\", root_node.left.depth)"
   ]
  },
  {
   "cell_type": "markdown",
   "id": "96579049",
   "metadata": {},
   "source": [
    "## Properties of a Binary Tree\n",
    "\n",
    "- **Maximum nodes**: $2^H - 1$ (where $H$ is the height)\n",
    "- **Maximum nodes at level $L$**: $2^L$\n",
    "- **Minimum height for $n$ nodes**: $\\lceil \\log_2(n+1) \\rceil$\n",
    "\n",
    "These properties help analyze the efficiency of tree operations."
   ]
  },
  {
   "cell_type": "markdown",
   "id": "388db4da",
   "metadata": {},
   "source": [
    "## Operations on a Binary Tree\n",
    "\n",
    "- **Traversal**: Visiting all nodes in a binary tree.\n",
    "  - Depth-First Search (DFS):\n",
    "    - Preorder (node, left, right)\n",
    "    - Inorder (left, node, right)\n",
    "    - Postorder (left, right, node)\n",
    "  - Breadth-First Search (BFS):\n",
    "    - Level order\n",
    "- **Insertion**: Adding a new node.\n",
    "- **Deletion**: Removing a node.\n",
    "- **Search**: Finding a node with a specific value."
   ]
  },
  {
   "cell_type": "markdown",
   "id": "4565c28e",
   "metadata": {},
   "source": [
    "### Traversal"
   ]
  },
  {
   "cell_type": "code",
   "execution_count": 12,
   "id": "2dc301a0",
   "metadata": {},
   "outputs": [],
   "source": [
    "#| export\n",
    "def create_n_nodes(num=5) -> Node:\n",
    "    \"\"\"Creates a perfect binary tree with num nodes.\"\"\"\n",
    "    assert num > 0\n",
    "    nodes = [Node(i) for i in range(num)]\n",
    "    for i in range(num):\n",
    "        left_index = 2 * i + 1\n",
    "        right_index = 2 * i + 2\n",
    "        if left_index < num:\n",
    "            nodes[i].left = nodes[left_index]\n",
    "            nodes[left_index].parent = nodes[i]\n",
    "        if right_index < num:\n",
    "            nodes[i].right = nodes[right_index]\n",
    "            nodes[right_index].parent = nodes[i]\n",
    "    return nodes[0]  # root node"
   ]
  },
  {
   "cell_type": "markdown",
   "id": "0e5f8035",
   "metadata": {},
   "source": [
    "#### DFS\n",
    "\n",
    "> Implemented using recursion"
   ]
  },
  {
   "cell_type": "code",
   "execution_count": null,
   "id": "4aef6b4a",
   "metadata": {},
   "outputs": [],
   "source": [
    "root = create_n_nodes(); assert root"
   ]
  },
  {
   "cell_type": "code",
   "execution_count": null,
   "id": "bd49a1eb",
   "metadata": {},
   "outputs": [
    {
     "data": {
      "text/plain": [
       "[Node(3, left=None, right=None, parent=Node(1)),\n",
       " Node(1, left=Node(3), right=Node(4), parent=Node(0)),\n",
       " Node(4, left=None, right=None, parent=Node(1)),\n",
       " Node(0, left=Node(1), right=Node(2), parent=None),\n",
       " Node(2, left=None, right=None, parent=Node(0))]"
      ]
     },
     "execution_count": 14,
     "metadata": {},
     "output_type": "execute_result"
    }
   ],
   "source": [
    "#| export\n",
    "def dfs_inorder(node: Node) -> Generator[Node, None, None]:\n",
    "    \"\"\"Inorder DFS traversal: left, node, right.\"\"\"\n",
    "    if node.left:\n",
    "        yield from dfs_inorder(node.left)\n",
    "    yield node\n",
    "    if node.right:\n",
    "        yield from dfs_inorder(node.right)\n"
   ]
  },
  {
   "cell_type": "code",
   "execution_count": null,
   "id": "ccc4e679",
   "metadata": {},
   "outputs": [
    {
     "data": {
      "text/plain": [
       "[Node(0, left=Node(1), right=Node(2), parent=None),\n",
       " Node(1, left=Node(3), right=Node(4), parent=Node(0)),\n",
       " Node(3, left=None, right=None, parent=Node(1)),\n",
       " Node(4, left=None, right=None, parent=Node(1)),\n",
       " Node(2, left=None, right=None, parent=Node(0))]"
      ]
     },
     "execution_count": 15,
     "metadata": {},
     "output_type": "execute_result"
    }
   ],
   "source": [
    "#| export\n",
    "def dfs_preorder(node: Node) -> Generator[Node, None, None]:\n",
    "    \"\"\"Preorder DFS traversal: node, left, right.\"\"\"\n",
    "    yield node\n",
    "    if node.left:\n",
    "        yield from dfs_preorder(node.left)\n",
    "    if node.right:\n",
    "        yield from dfs_preorder(node.right)"
   ]
  },
  {
   "cell_type": "code",
   "execution_count": null,
   "id": "abd3e09e",
   "metadata": {},
   "outputs": [
    {
     "data": {
      "text/plain": [
       "[Node(3, left=None, right=None, parent=Node(1)),\n",
       " Node(4, left=None, right=None, parent=Node(1)),\n",
       " Node(1, left=Node(3), right=Node(4), parent=Node(0)),\n",
       " Node(2, left=None, right=None, parent=Node(0)),\n",
       " Node(0, left=Node(1), right=Node(2), parent=None)]"
      ]
     },
     "execution_count": 16,
     "metadata": {},
     "output_type": "execute_result"
    }
   ],
   "source": [
    "#| export\n",
    "def dfs_postorder(node: Node) -> Generator[Node, None, None]:\n",
    "    \"\"\"Postorder DFS traversal: left, right, node.\"\"\"\n",
    "    if node.left:\n",
    "        yield from dfs_postorder(node.left)\n",
    "    if node.right:\n",
    "        yield from dfs_postorder(node.right)\n",
    "    yield node"
   ]
  },
  {
   "cell_type": "markdown",
   "id": "59aceb7a",
   "metadata": {},
   "source": [
    "#### BFS\n",
    "\n",
    "> Implemented using a queue"
   ]
  },
  {
   "cell_type": "code",
   "execution_count": null,
   "id": "48966877",
   "metadata": {},
   "outputs": [
    {
     "data": {
      "text/plain": [
       "[Node(0, left=Node(1), right=Node(2), parent=None),\n",
       " Node(1, left=Node(3), right=Node(4), parent=Node(0)),\n",
       " Node(2, left=None, right=None, parent=Node(0)),\n",
       " Node(3, left=None, right=None, parent=Node(1)),\n",
       " Node(4, left=None, right=None, parent=Node(1))]"
      ]
     },
     "execution_count": 17,
     "metadata": {},
     "output_type": "execute_result"
    }
   ],
   "source": [
    "#| export\n",
    "def bfs(node: Node) -> Generator[Node, None, None]:\n",
    "    \"\"\"Breadth-first search (level order traversal).\"\"\"\n",
    "    queue = deque([node])\n",
    "    while queue:\n",
    "        node = queue.popleft()\n",
    "        yield node\n",
    "        if node.left:\n",
    "            queue.append(node.left)\n",
    "        if node.right:\n",
    "            queue.append(node.right)"
   ]
  },
  {
   "cell_type": "markdown",
   "id": "66638ea8",
   "metadata": {},
   "source": [
    "### Insertion\n",
    "\n",
    "Insertion uses BFS to find the first node without a left or right child and inserts the new node there. This keeps the tree as balanced as possible (but does not guarantee a balanced tree)."
   ]
  },
  {
   "cell_type": "code",
   "execution_count": 18,
   "id": "32b515ae",
   "metadata": {},
   "outputs": [],
   "source": [
    "#| export\n",
    "def insert_node(root: Node, value):\n",
    "    \"\"\"Level-order BFS insert. Inserts a new node with the given value.\"\"\"\n",
    "    queue = deque([root])\n",
    "    while queue:\n",
    "        node = queue.popleft()\n",
    "        if node.left:\n",
    "            queue.append(node.left)\n",
    "        else:\n",
    "            node.left = Node(value=value, left=None, right=None, parent=node)\n",
    "            break\n",
    "        if node.right:\n",
    "            queue.append(node.right)\n",
    "        else:\n",
    "            node.right = Node(value=value, left=None, right=None, parent=node)\n",
    "            break"
   ]
  },
  {
   "cell_type": "code",
   "execution_count": 19,
   "id": "00627b04",
   "metadata": {},
   "outputs": [],
   "source": [
    "root = create_n_nodes(7)\n",
    "insert_node(root, \"new1\")\n",
    "insert_node(root, \"new2\")\n",
    "insert_node(root, \"new3\")\n",
    "insert_node(root, \"new4\")"
   ]
  },
  {
   "cell_type": "markdown",
   "id": "f380d799",
   "metadata": {},
   "source": [
    "## Search\n",
    "\n",
    "You can search for a value in a tree using any traversal method. The function below is generic and works with any traversal."
   ]
  },
  {
   "cell_type": "code",
   "execution_count": 20,
   "id": "975406ae",
   "metadata": {},
   "outputs": [],
   "source": [
    "#| export\n",
    "def search_tree(root: Node, value, traversal_func: Callable[[Node], Generator[Node, None, None]]) -> Node|None:\n",
    "    \"\"\"Search for a node with the given value using the specified traversal function.\"\"\"\n",
    "    for node in traversal_func(root):\n",
    "        if node.value == value:\n",
    "            return node\n",
    "    else:\n",
    "        return None"
   ]
  },
  {
   "cell_type": "code",
   "execution_count": 21,
   "id": "fe1f258b",
   "metadata": {},
   "outputs": [
    {
     "name": "stdout",
     "output_type": "stream",
     "text": [
      "Node(1, left=Node(3), right=Node(4), parent=Node(0))\n",
      "Node(2, left=Node(5), right=Node(6), parent=Node(0))\n",
      "Node(3, left=None, right=None, parent=Node(1))\n",
      "Node(4, left=None, right=None, parent=Node(1))\n",
      "Node(5, left=None, right=None, parent=Node(2))\n"
     ]
    }
   ],
   "source": [
    "root = create_n_nodes(7)\n",
    "print(search_tree(root, 1, dfs_inorder))\n",
    "print(search_tree(root, 2, dfs_preorder))\n",
    "print(search_tree(root, 3, dfs_postorder))\n",
    "print(search_tree(root, 4, bfs))\n",
    "print(search_tree(root, 5, dfs_inorder))"
   ]
  },
  {
   "cell_type": "markdown",
   "id": "f19d1881",
   "metadata": {},
   "source": [
    "## Deletion\n",
    "\n",
    "Deleting a node requires:\n",
    "1. Finding the node to delete.\n",
    "2. Swapping it with the right-most (deepest) node to preserve structure.\n",
    "3. Removing the right-most node.\n",
    "\n",
    "> Note: For binary search trees, deletion must preserve the BST property. The method below is for general binary trees."
   ]
  },
  {
   "cell_type": "code",
   "execution_count": 22,
   "id": "044034ef",
   "metadata": {},
   "outputs": [],
   "source": [
    "#| export\n",
    "def delete_node(root: Node, value=None) -> Node|None:\n",
    "    \"\"\"Deletes the node with the given value by swapping with the right-most node.\"\"\"\n",
    "    # if root has no children\n",
    "    if not (root.left or root.right):\n",
    "        del root\n",
    "        return None\n",
    "    # find the deepest node and its parent\n",
    "    queue: deque[tuple[Node, Node|None]] = deque([(root, None)])\n",
    "    last_parent = None\n",
    "    last_node = None\n",
    "    while queue:\n",
    "        last_node, last_parent = queue.popleft()\n",
    "        if last_node.left:\n",
    "            queue.append((last_node.left, last_node))\n",
    "        if last_node.right:\n",
    "            queue.append((last_node.right, last_node))\n",
    "    # delete the leaf node\n",
    "    if last_parent:\n",
    "        if last_parent.right:\n",
    "            last_parent.right = None\n",
    "        elif last_parent.left:\n",
    "            last_parent.left = None\n",
    "    else:\n",
    "        raise NotImplementedError(\"Parent of right-most node not found.\")\n",
    "    # find the node with value == value\n",
    "    if last_node and root.value == value:\n",
    "        last_node.left = root.left\n",
    "        last_node.right = root.right\n",
    "        del root\n",
    "        return last_node\n",
    "    elif not last_node:\n",
    "        raise NotImplementedError\n",
    "    target_queue: deque[Node] = deque([root])\n",
    "    while target_queue:\n",
    "        node = target_queue.popleft()\n",
    "        if node.left:\n",
    "            if node.left is last_node:\n",
    "                node.left = None\n",
    "                return root\n",
    "            elif node.left.value == value:\n",
    "                node.left = last_node\n",
    "                last_node.parent = node\n",
    "                return root\n",
    "            target_queue.append(node.left)\n",
    "        if node.right:\n",
    "            if node.right is last_node:\n",
    "                node.right = None\n",
    "                return root\n",
    "            elif node.right.value == value:\n",
    "                node.right = last_node\n",
    "                last_node.parent = node\n",
    "                return root\n",
    "            target_queue.append(node.right)\n",
    "    return root"
   ]
  },
  {
   "cell_type": "code",
   "execution_count": 23,
   "id": "9a57ed0f",
   "metadata": {},
   "outputs": [
    {
     "data": {
      "image/png": "[encoded data removed]",
      "text/plain": [
       "<Figure size 600x600 with 1 Axes>"
      ]
     },
     "metadata": {},
     "output_type": "display_data"
    },
    {
     "data": {
      "image/png": "[encoded data removed]",
      "text/plain": [
       "<Figure size 600x600 with 1 Axes>"
      ]
     },
     "metadata": {},
     "output_type": "display_data"
    },
    {
     "name": "stdout",
     "output_type": "stream",
     "text": [
      "Empty tree\n"
     ]
    },
    {
     "data": {
      "image/png": "[encoded data removed]",
      "text/plain": [
       "<Figure size 600x200 with 1 Axes>"
      ]
     },
     "metadata": {},
     "output_type": "display_data"
    }
   ],
   "source": [
    "visualize_tree(create_n_nodes(7))\n",
    "visualize_tree(delete_node(delete_node(create_n_nodes(7), 2), 5))\n",
    "visualize_tree(delete_node(Node(1), 1))\n",
    "visualize_tree(delete_node(Node(1, left=Node(2)), 1))"
   ]
  },
  {
   "cell_type": "markdown",
   "id": "3d9567ab",
   "metadata": {},
   "source": [
    "## Types of Binary Trees\n",
    "\n",
    "- **By children**\n",
    "  - Full: Every node has 0 or 2 children.\n",
    "  - Degenerate: Each parent has only one child (like a linked list).\n",
    "  - Skewed: All nodes are either to the left or right.\n",
    "- **By levels**\n",
    "  - Complete: All levels are filled except possibly the last.\n",
    "  - Perfect: All internal nodes have two children and all leaves are at the same level.\n",
    "  - Balanced: Height is minimized.\n",
    "- **By values**\n",
    "  - Binary search tree (BST)\n",
    "  - AVL\n",
    "  - Red Black\n",
    "  - B, B+\n",
    "  - Segment\n",
    "\n",
    "Add diagrams or ASCII art for each type for further clarity."
   ]
  },
  {
   "cell_type": "markdown",
   "id": "553246ea",
   "metadata": {},
   "source": [
    "# Binary Search Trees (BST)\n",
    "\n",
    "A **binary search tree** is a subtype of binary tree that efficiently stores sorted data.\n",
    "\n",
    "- The left subtree of a node contains only nodes with keys less than the node's key.\n",
    "- The right subtree of a node contains only nodes with keys greater than the node's key.\n",
    "- The left and right subtree each must also be a binary search tree.\n",
    "- There must be no duplicate nodes (BSTs may have duplicate values with different handling approaches).\n",
    "\n",
    "**When not to use:**\n",
    "Use a hash table if all you need is search, insert, and delete, because a hash table does these operations in O(1) time complexity.\n",
    "\n",
    "**When to use:**\n",
    "When you need to maintain a traversable, sorted stream of data you can search, insert, delete, ceiling, max, and min in O(h) time, where h is the tree's height. There are subtypes of binary search trees (AVL, Red Black Trees) that minimize height.\n",
    "\n",
    "> When rolling out a BST in practice, consider AVL and Red Black Trees to optimize operations."
   ]
  },
  {
   "cell_type": "markdown",
   "id": "a324140d",
   "metadata": {},
   "source": [
    "## BST Insertion\n",
    "\n",
    "When adding a new node, traverse the tree. If the new node's value is greater than the current node, move right; else move left. Once you hit a leaf node, add the node as a child. Duplicate values are not allowed in this implementation."
   ]
  },
  {
   "cell_type": "code",
   "execution_count": 24,
   "id": "ec717016",
   "metadata": {},
   "outputs": [],
   "source": [
    "#| export\n",
    "def bst_insert(root: Node, new_node: Node) -> None:\n",
    "    \"\"\"Insert a new node into a BST. Raises an exception if value exists.\"\"\"\n",
    "    if new_node.value < root.value:\n",
    "        if root.left:\n",
    "            bst_insert(root.left, new_node)\n",
    "        else:\n",
    "            root.left = new_node\n",
    "            new_node.parent = root\n",
    "            return\n",
    "    elif root.value < new_node.value:\n",
    "        if root.right:\n",
    "            bst_insert(root.right, new_node)\n",
    "        else:\n",
    "            root.right = new_node\n",
    "            new_node.parent = root\n",
    "            return\n",
    "    else:\n",
    "        raise Exception(f\"Value {root.value} already exists in this tree.\")"
   ]
  },
  {
   "cell_type": "code",
   "execution_count": 25,
   "id": "9ebf4363",
   "metadata": {},
   "outputs": [
    {
     "data": {
      "image/png": "[encoded data removed]",
      "text/plain": [
       "<Figure size 800x800 with 1 Axes>"
      ]
     },
     "metadata": {},
     "output_type": "display_data"
    }
   ],
   "source": [
    "root = set_parents(\n",
    "    Node(\n",
    "        100,\n",
    "        left=Node(\n",
    "            20,\n",
    "            left=Node(10),\n",
    "            right=Node(30),\n",
    "        ),\n",
    "        right=Node(500),\n",
    "    )\n",
    ")\n",
    "bst_insert(root, Node(40))\n",
    "bst_insert(root, Node(999))\n",
    "bst_insert(root, Node(-999))\n",
    "visualize_tree(root)\n",
    "# Uncomment to see exception for duplicate insertion:\n",
    "# bst_insert(root, Node(30))"
   ]
  },
  {
   "cell_type": "code",
   "execution_count": 26,
   "id": "fc9b3a7b",
   "metadata": {},
   "outputs": [
    {
     "data": {
      "image/png": "[encoded data removed]",
      "text/plain": [
       "<Figure size 800x800 with 1 Axes>"
      ]
     },
     "metadata": {},
     "output_type": "display_data"
    }
   ],
   "source": [
    "def sorted_list_to_bst(vals) -> Node|None:\n",
    "    \"\"\"Given a sorted list, returns the root of a balanced BST.\"\"\"\n",
    "    if not vals:\n",
    "        return None\n",
    "    mid = len(vals) // 2\n",
    "    node = Node(vals[mid])\n",
    "    node.left = sorted_list_to_bst(vals[:mid])\n",
    "    if node.left:\n",
    "        node.left.parent = node\n",
    "    node.right = sorted_list_to_bst(vals[mid+1:])\n",
    "    if node.right:\n",
    "        node.right.parent = node\n",
    "    return node\n",
    "\n",
    "def generate_balanced_bst(start, n) -> Node|None:\n",
    "    \"\"\"Create a balanced BST of values start...start+n-1.\"\"\"\n",
    "    return sorted_list_to_bst(list(range(start, start+n)))\n",
    "\n",
    "r = generate_balanced_bst(50, 13)\n",
    "assert isinstance(r, Node)\n",
    "visualize_tree(r)"
   ]
  },
  {
   "cell_type": "code",
   "execution_count": 27,
   "id": "a7df015d",
   "metadata": {},
   "outputs": [
    {
     "data": {
      "text/plain": [
       "[50, 51, 52, 53, 54, 55, 56, 57, 58, 59, 60, 61, 62]"
      ]
     },
     "execution_count": 27,
     "metadata": {},
     "output_type": "execute_result"
    }
   ],
   "source": [
    "[i.value for i in dfs_inorder(r)]"
   ]
  },
  {
   "cell_type": "code",
   "execution_count": 28,
   "id": "e3c65b51",
   "metadata": {},
   "outputs": [],
   "source": [
    "#| export\n",
    "def bst_search(root: Node|None, key) -> Node:\n",
    "    \"\"\"Search for a key in a BST. Raises an exception if not found.\"\"\"\n",
    "    if root.value == key:\n",
    "        return root\n",
    "    elif key < root.value and root.left:\n",
    "        return bst_search(root.left, key)\n",
    "    elif root.right:\n",
    "        return bst_search(root.right, key)\n",
    "    else:\n",
    "        raise Exception(f\"Key {key} not found\")"
   ]
  },
  {
   "cell_type": "code",
   "execution_count": 29,
   "id": "601fca04",
   "metadata": {},
   "outputs": [
    {
     "data": {
      "text/plain": [
       "Node(60, left=Node(58), right=Node(62), parent=Node(56))"
      ]
     },
     "execution_count": 29,
     "metadata": {},
     "output_type": "execute_result"
    }
   ],
   "source": [
    "bst_search(r, 60)"
   ]
  },
  {
   "cell_type": "markdown",
   "id": "29d320a1",
   "metadata": {},
   "source": [
    "## BST Deletion (Overview)\n",
    "\n",
    "The goal is to delete a node while maintaining order. There are three cases:\n",
    "\n",
    "1. The node is a leaf node (just remove it).\n",
    "2. The node has one child (replace it with its child).\n",
    "3. The node has two children (replace it with its in-order successor or predecessor).\n",
    "\n",
    "> Implementing full BST deletion is left as an exercise."
   ]
  },
  {
   "cell_type": "code",
   "execution_count": 30,
   "id": "675ff531",
   "metadata": {},
   "outputs": [],
   "source": [
    "#| hide\n",
    "import nbdev; nbdev.nbdev_export()"
   ]
  },
  {
   "cell_type": "markdown",
   "id": "5452085e",
   "metadata": {},
   "source": [
    "# Tests: Node Creation"
   ]
  },
  {
   "cell_type": "code",
   "execution_count": 31,
   "id": "f29cffc9",
   "metadata": {},
   "outputs": [],
   "source": [
    "n = Node(42)\n",
    "assert n.value == 42\n",
    "assert n.left is None\n",
    "assert n.right is None\n",
    "n2 = Node(1, left=n)\n",
    "assert n2.left is n\n",
    "assert n2.right is None"
   ]
  },
  {
   "cell_type": "markdown",
   "id": "45fe777c",
   "metadata": {},
   "source": [
    "# Tests: Parent Pointer and set_parents"
   ]
  },
  {
   "cell_type": "code",
   "execution_count": 32,
   "id": "4cdccfb0",
   "metadata": {},
   "outputs": [],
   "source": [
    "root = Node(1, Node(2), Node(3))\n",
    "set_parents(root)\n",
    "assert root.parent is None\n",
    "assert root.left.parent is root\n",
    "assert root.right.parent is root"
   ]
  },
  {
   "cell_type": "markdown",
   "id": "1ab47105",
   "metadata": {},
   "source": [
    "# Tests: __str__ and __repr__"
   ]
  },
  {
   "cell_type": "code",
   "execution_count": 33,
   "id": "8079ed26",
   "metadata": {},
   "outputs": [],
   "source": [
    "s = str(root)\n",
    "r = repr(root)\n",
    "assert \"Node(1\" in s\n",
    "assert s == r"
   ]
  },
  {
   "cell_type": "markdown",
   "id": "39a5304b",
   "metadata": {},
   "source": [
    "# Tests: height and depth"
   ]
  },
  {
   "cell_type": "code",
   "execution_count": 34,
   "id": "17922b93",
   "metadata": {},
   "outputs": [],
   "source": [
    "tree = create_n_nodes(7)\n",
    "set_parents(tree)\n",
    "assert tree.height == 3\n",
    "assert tree.left.left.depth == 2"
   ]
  },
  {
   "cell_type": "markdown",
   "id": "05751fdb",
   "metadata": {},
   "source": [
    "# Tests: Traversals"
   ]
  },
  {
   "cell_type": "code",
   "execution_count": 35,
   "id": "80c5e7ea",
   "metadata": {},
   "outputs": [],
   "source": [
    "inorder = [n.value for n in dfs_inorder(tree)]\n",
    "preorder = [n.value for n in dfs_preorder(tree)]\n",
    "postorder = [n.value for n in dfs_postorder(tree)]\n",
    "bfs_order = [n.value for n in bfs(tree)]\n",
    "assert set(inorder) == set(preorder) == set(postorder) == set(bfs_order) == set(range(7))"
   ]
  },
  {
   "cell_type": "markdown",
   "id": "d5dbb9bc",
   "metadata": {},
   "source": [
    "# Tests: Insertion"
   ]
  },
  {
   "cell_type": "code",
   "execution_count": 36,
   "id": "7d918dac",
   "metadata": {},
   "outputs": [],
   "source": [
    "tree2 = create_n_nodes(3)\n",
    "insert_node(tree2, 99)\n",
    "# The new node should be a child of one of the leaves\n",
    "found = False\n",
    "for n in [tree2.left, tree2.right]:\n",
    "    if n.left and n.left.value == 99:\n",
    "        found = True\n",
    "    if n.right and n.right.value == 99:\n",
    "        found = True\n",
    "assert found"
   ]
  },
  {
   "cell_type": "markdown",
   "id": "f65a5ab4",
   "metadata": {},
   "source": [
    "# Tests: Search"
   ]
  },
  {
   "cell_type": "code",
   "execution_count": 37,
   "id": "b4eb2756",
   "metadata": {},
   "outputs": [],
   "source": [
    "tree3 = create_n_nodes(5)\n",
    "assert search_tree(tree3, 2, dfs_inorder).value == 2\n",
    "assert search_tree(tree3, 99, dfs_inorder) is None"
   ]
  },
  {
   "cell_type": "markdown",
   "id": "91b0b8fa",
   "metadata": {},
   "source": [
    "# Tests: Deletion (leaf, one child, root)"
   ]
  },
  {
   "cell_type": "code",
   "execution_count": 38,
   "id": "915dcefb",
   "metadata": {},
   "outputs": [],
   "source": [
    "t = create_n_nodes(3)\n",
    "t = delete_node(t, 2)\n",
    "assert all(n.value != 2 for n in dfs_inorder(t))\n",
    "t2 = Node(1, Node(2))\n",
    "t2 = delete_node(t2, 1)\n",
    "assert t2.value == 2"
   ]
  },
  {
   "cell_type": "markdown",
   "id": "750760cb",
   "metadata": {},
   "source": [
    "# Tests: BST insert and search"
   ]
  },
  {
   "cell_type": "code",
   "execution_count": 39,
   "id": "fd51665a",
   "metadata": {},
   "outputs": [],
   "source": [
    "bst = Node(10)\n",
    "bst_insert(bst, Node(5))\n",
    "bst_insert(bst, Node(15))\n",
    "assert bst.left.value == 5\n",
    "assert bst.right.value == 15\n",
    "try:\n",
    "    bst_insert(bst, Node(5))\n",
    "    assert False, \"Duplicate insert should raise\"\n",
    "except Exception:\n",
    "    pass\n",
    "assert bst_search(bst, 15).value == 15\n",
    "try:\n",
    "    bst_search(bst, 99)\n",
    "    assert False, \"Search for missing value should raise\"\n",
    "except Exception:\n",
    "    pass"
   ]
  },
  {
   "cell_type": "markdown",
   "id": "bdebe713",
   "metadata": {},
   "source": [
    "# Tests: Balanced BST from sorted list"
   ]
  },
  {
   "cell_type": "code",
   "execution_count": 40,
   "id": "c0f8a798",
   "metadata": {},
   "outputs": [],
   "source": [
    "sorted_bst = generate_balanced_bst(0, 7)\n",
    "assert sorted_bst.value == 3\n",
    "assert sorted_bst.left.value == 1\n",
    "assert sorted_bst.right.value == 5\n",
    "assert [n.value for n in dfs_inorder(sorted_bst)] == list(range(7))"
   ]
  },
  {
   "cell_type": "markdown",
   "id": "081f1275",
   "metadata": {},
   "source": [
    "# Tests: Edge cases (single node, empty search)"
   ]
  }
 ],
 "metadata": {
  "kernelspec": {
   "display_name": ".venv",
   "language": "python",
   "name": "python3"
  },
  "language_info": {
   "codemirror_mode": {
    "name": "ipython",
    "version": 3
   },
   "file_extension": ".py",
   "mimetype": "text/x-python",
   "name": "python",
   "nbconvert_exporter": "python",
   "pygments_lexer": "ipython3",
   "version": "3.13.0"
  }
 },
 "nbformat": 4,
 "nbformat_minor": 5
}
