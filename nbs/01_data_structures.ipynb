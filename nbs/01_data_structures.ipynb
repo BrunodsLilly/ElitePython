{
 "cells": [
  {
   "cell_type": "markdown",
   "id": "c8e2cb1a",
   "metadata": {},
   "source": [
    "# data_structures\n",
    "\n",
    "> Fill in a module description here"
   ]
  },
  {
   "cell_type": "code",
   "execution_count": 1,
   "id": "5fa06a09",
   "metadata": {},
   "outputs": [],
   "source": [
    "#| default_exp data_structures"
   ]
  },
  {
   "cell_type": "code",
   "execution_count": 2,
   "id": "9bd3c8a7",
   "metadata": {},
   "outputs": [],
   "source": [
    "#| hide\n",
    "from nbdev.showdoc import *\n",
    "from fastcore.test import *"
   ]
  },
  {
   "cell_type": "code",
   "execution_count": 3,
   "id": "3571bcd0",
   "metadata": {},
   "outputs": [],
   "source": [
    "from collections import deque\n",
    "import matplotlib.pyplot as plt\n",
    "import networkx as nx"
   ]
  },
  {
   "cell_type": "markdown",
   "id": "79ae0c2f",
   "metadata": {},
   "source": [
    "## Utility functions"
   ]
  },
  {
   "cell_type": "code",
   "execution_count": 4,
   "id": "f8001c11",
   "metadata": {},
   "outputs": [],
   "source": [
    "def visualize_tree(root):\n",
    "    if not root:\n",
    "        print(\"Empty tree\")\n",
    "        return\n",
    "    \n",
    "    G = nx.DiGraph()\n",
    "    pos = {}\n",
    "    labels = {}\n",
    "    node_id = 0\n",
    "    \n",
    "    def add_nodes(node, x=0.0, y=0.0, layer=1):\n",
    "        nonlocal node_id\n",
    "        if node:\n",
    "            current_id = node_id\n",
    "            node_id += 1\n",
    "            G.add_node(current_id)\n",
    "            pos[current_id] = (x, y)\n",
    "            labels[current_id] = str(node.value)\n",
    "            \n",
    "            if node.left:\n",
    "                left_id = node_id\n",
    "                G.add_edge(current_id, left_id)\n",
    "                add_nodes(node.left, x - 1/layer, y - 1, layer + 1)\n",
    "            if node.right:\n",
    "                right_id = node_id\n",
    "                G.add_edge(current_id, right_id)\n",
    "                add_nodes(node.right, x + 1/layer, y - 1, layer + 1)\n",
    "            \n",
    "            return current_id\n",
    "    \n",
    "    add_nodes(root)\n",
    "    \n",
    "    plt.figure(figsize=(3, 2))\n",
    "    nx.draw(G, pos, labels=labels, with_labels=True, node_color='lightblue', \n",
    "            node_size=1000, font_size=16, font_weight='bold', arrows=True)\n",
    "    plt.title(\"Binary Tree Visualization\")\n",
    "    plt.show()"
   ]
  },
  {
   "cell_type": "markdown",
   "id": "8137eaf8",
   "metadata": {},
   "source": [
    "## Binary Trees\n",
    "\n",
    "> Classes and methods for operating with Binary Search Trees.\n",
    "\n",
    "A Binary Search Tree is a hierarchical data structure compose of nodes, where each node has at most two child nodes.\n",
    "Binary Trees are used for efficient data storage and support insertions, deletions, and traversals. These operations have a worst-case complexity of O(n). Balanced trees have a time complexity of O(logn).\n",
    "\n",
    "![The Anatomy of a Binary Tree](https://media.geeksforgeeks.org/wp-content/uploads/20240811023816/Introduction-to-Binary-Tree.webp)\n"
   ]
  },
  {
   "cell_type": "markdown",
   "id": "19001ea8",
   "metadata": {},
   "source": [
    "Each node in a binary tree has three parts:\n",
    "- Data\n",
    "- Pointer to the left child\n",
    "- Pointer to the right child\n",
    "\n",
    "![Figure of a node](https://media.geeksforgeeks.org/wp-content/uploads/20240811023858/Binary-Tree-Representation.webp)"
   ]
  },
  {
   "cell_type": "markdown",
   "id": "1e051b30",
   "metadata": {},
   "source": [
    "Creating a Node"
   ]
  },
  {
   "cell_type": "code",
   "execution_count": 5,
   "id": "7f0902d1",
   "metadata": {},
   "outputs": [],
   "source": [
    "class Node:\n",
    "    \"\"\"A node in a binary tree.\"\"\"\n",
    "    def __init__(self, key, left: \"Node|None\"=None, right: \"Node|None\"=None):\n",
    "        self.value = key\n",
    "        self.left: Node|None = left\n",
    "        self.right: Node|None = right\n",
    "    \n",
    "    def __str__(self) -> str:\n",
    "        \"\"\"A string representation of the node including its value, left, and right children.\"\"\"\n",
    "        left_value = f\"Node({self.left.value})\" if self.left else None\n",
    "        right_value = f\"Node({self.right.value})\" if self.right else None\n",
    "        return f\"Node({self.value}, left={left_value}, right={right_value})\"\n",
    "\n",
    "    def __repr__(self) -> str:\n",
    "        \"\"\"A representation of the node including its value, left, and right children.\"\"\"\n",
    "        return self.__str__()"
   ]
  },
  {
   "cell_type": "markdown",
   "id": "47d85193",
   "metadata": {},
   "source": [
    "Creating a binary tree requires creating a set of nodes."
   ]
  },
  {
   "cell_type": "code",
   "execution_count": 6,
   "id": "29b62cf4",
   "metadata": {},
   "outputs": [
    {
     "data": {
      "text/plain": [
       "Node(1, left=None, right=None)"
      ]
     },
     "execution_count": 6,
     "metadata": {},
     "output_type": "execute_result"
    }
   ],
   "source": [
    "node1 = Node(1)\n",
    "node1"
   ]
  },
  {
   "cell_type": "code",
   "execution_count": 7,
   "id": "d3cb484a",
   "metadata": {},
   "outputs": [
    {
     "data": {
      "text/plain": [
       "Node(1, left=Node(2), right=Node(3))"
      ]
     },
     "execution_count": 7,
     "metadata": {},
     "output_type": "execute_result"
    }
   ],
   "source": [
    "root_node = (\n",
    "    Node(1,\n",
    "        Node(2,\n",
    "                Node(4,\n",
    "                    Node(8),\n",
    "                    Node(9)\n",
    "                ),\n",
    "                Node(5,\n",
    "                    Node(10),\n",
    "                    Node(11)\n",
    "                )\n",
    "        ),\n",
    "        Node(3,\n",
    "                Node(6,\n",
    "                    Node(12),\n",
    "                    Node(13)\n",
    "                ),\n",
    "                Node(7,\n",
    "                    Node(14),\n",
    "                    Node(15)\n",
    "                )\n",
    "        )\n",
    "    )\n",
    ")\n",
    "root_node"
   ]
  },
  {
   "cell_type": "markdown",
   "id": "d7a9f82c",
   "metadata": {},
   "source": [
    "Terminology:\n",
    "\n",
    "- Node: an object with a value, a left node, and a child node.\n",
    "- Child: a left or right node.\n",
    "- Parent: a node that has a child node.\n",
    "- Root: the topmost node in a set of nodes; it does not have a parent.\n",
    "- Leaf: a node with a parent node and no child nodes.\n",
    "- Internal: a node with at least one child node.\n",
    "- Depth: the number of edges from a node to its root.\n",
    "- Height: the Depth of the deepest leaf node."
   ]
  },
  {
   "cell_type": "code",
   "execution_count": 8,
   "id": "46a890ed",
   "metadata": {},
   "outputs": [],
   "source": [
    "class Node:\n",
    "    \"\"\"A node in a binary tree.\"\"\"\n",
    "    def __init__(self, key, left: \"Node|None\"=None, right: \"Node|None\"=None, parent: \"Node|None\" = None):\n",
    "        self.value = key\n",
    "        self.parent: Node|None = parent\n",
    "        self.left: Node|None = left\n",
    "        self.right: Node|None = right\n",
    "    \n",
    "    def __str__(self) -> str:\n",
    "        \"\"\"A string representation of the node including its value, left, and right children.\"\"\"\n",
    "        left_value = f\"Node({self.left.value})\" if self.left else None\n",
    "        right_value = f\"Node({self.right.value})\" if self.right else None\n",
    "        parent_value = f\"Node({self.parent.value})\" if self.parent else None\n",
    "        return f\"Node({self.value}, left={left_value}, right={right_value}, parent={parent_value})\"\n",
    "\n",
    "    def __repr__(self) -> str:\n",
    "        \"\"\"A representation of the node including its value, left, and right children.\"\"\"\n",
    "        return self.__str__()\n",
    "\n",
    "    @property\n",
    "    def height(self) -> int:\n",
    "        return 1 + max(\n",
    "            (self.left.height if self.left else 0), (self.right.height if self.right else 0)\n",
    "        )\n",
    "    \n",
    "    @property\n",
    "    def depth(self) -> int:\n",
    "        return 1 + (self.parent.depth if self.parent else 0)\n"
   ]
  },
  {
   "cell_type": "code",
   "execution_count": 9,
   "id": "d519c384",
   "metadata": {},
   "outputs": [],
   "source": [
    "def set_parents(node: Node, parent: Node|None=None) -> Node:\n",
    "    \"\"\"Set parent nodes given a root node.\"\"\"\n",
    "    if parent:\n",
    "        node.parent = parent\n",
    "    if node.left:\n",
    "        set_parents(node.left, node)\n",
    "    if node.right:\n",
    "        set_parents(node.right, node)\n",
    "    return node"
   ]
  },
  {
   "cell_type": "code",
   "execution_count": 10,
   "id": "d2d65695",
   "metadata": {},
   "outputs": [
    {
     "data": {
      "text/plain": [
       "(None, 4, 1)"
      ]
     },
     "execution_count": 10,
     "metadata": {},
     "output_type": "execute_result"
    }
   ],
   "source": [
    "root_node = set_parents(\n",
    "    Node(1,\n",
    "        Node(2,\n",
    "                Node(4,\n",
    "                    Node(8),\n",
    "                    Node(9)\n",
    "                ),\n",
    "                Node(5,\n",
    "                    Node(10),\n",
    "                    Node(11)\n",
    "                )\n",
    "        ),\n",
    "        Node(3,\n",
    "                Node(6,\n",
    "                    Node(12),\n",
    "                    Node(13)\n",
    "                ),\n",
    "                Node(7,\n",
    "                    Node(14),\n",
    "                    Node(15)\n",
    "                )\n",
    "        )\n",
    "    )\n",
    ")\n",
    "root_node.parent, root_node.height, root_node.depth\n"
   ]
  },
  {
   "cell_type": "code",
   "execution_count": 11,
   "id": "275b948a",
   "metadata": {},
   "outputs": [
    {
     "name": "stdout",
     "output_type": "stream",
     "text": [
      "Node(2, left=Node(4), right=Node(5), parent=Node(1)) depth: 2\n"
     ]
    }
   ],
   "source": [
    "if root_node.left:\n",
    "    print(root_node.left, \"depth:\", root_node.left.depth)"
   ]
  },
  {
   "cell_type": "markdown",
   "id": "96579049",
   "metadata": {},
   "source": [
    "Properties of a binary tree:\n",
    "\n",
    "- Max nodes: $2^H - 1$\n",
    "- Max nodes in a level: $2^L$\n",
    "- Min height is $log_2(n+1)$"
   ]
  },
  {
   "cell_type": "markdown",
   "id": "388db4da",
   "metadata": {},
   "source": [
    "## Operations on a binary tree\n",
    "\n",
    "- Traversal:\n",
    "  - Visiting all nodes in a binary tree.\n",
    "  - Depth-First Search:\n",
    "    - preorder\n",
    "    - inorder\n",
    "    - postorder\n",
    "  - Breadth-First Search:\n",
    "    - level\n",
    "- Insertion\n",
    "- Deletion"
   ]
  },
  {
   "cell_type": "markdown",
   "id": "4565c28e",
   "metadata": {},
   "source": [
    "### Traversal"
   ]
  },
  {
   "cell_type": "code",
   "execution_count": 12,
   "id": "2dc301a0",
   "metadata": {},
   "outputs": [
    {
     "name": "stdout",
     "output_type": "stream",
     "text": [
      "Empty tree\n"
     ]
    },
    {
     "data": {
      "image/png": "[encoded data removed]",
      "text/plain": [
       "<Figure size 300x200 with 1 Axes>"
      ]
     },
     "metadata": {},
     "output_type": "display_data"
    },
    {
     "data": {
      "image/png": "[encoded data removed]",
      "text/plain": [
       "<Figure size 300x200 with 1 Axes>"
      ]
     },
     "metadata": {},
     "output_type": "display_data"
    },
    {
     "data": {
      "image/png": "[encoded data removed]",
      "text/plain": [
       "<Figure size 300x200 with 1 Axes>"
      ]
     },
     "metadata": {},
     "output_type": "display_data"
    }
   ],
   "source": [
    "from collections import deque\n",
    "\n",
    "def _create_dummy_node(num=5) -> Node:\n",
    "    if num <= 0:\n",
    "        return None\n",
    "    nodes = [Node(i) for i in range(num)]\n",
    "    for i in range(num):\n",
    "        left_index = 2 * i + 1\n",
    "        right_index = 2 * i + 2\n",
    "        if left_index < num:\n",
    "            nodes[i].left = nodes[left_index]\n",
    "            nodes[left_index].parent = nodes[i]\n",
    "        if right_index < num:\n",
    "            nodes[i].right = nodes[right_index]\n",
    "            nodes[right_index].parent = nodes[i]\n",
    "    return nodes[0]  # root node\n",
    "\n",
    "visualize_tree(_create_dummy_node(0))\n",
    "visualize_tree(_create_dummy_node(1))\n",
    "visualize_tree(_create_dummy_node(5))\n",
    "visualize_tree(_create_dummy_node(9))"
   ]
  },
  {
   "cell_type": "markdown",
   "id": "0e5f8035",
   "metadata": {},
   "source": [
    "#### DFS\n",
    "\n",
    "> Implemented using recursion"
   ]
  },
  {
   "cell_type": "code",
   "execution_count": 13,
   "id": "4aef6b4a",
   "metadata": {},
   "outputs": [],
   "source": [
    "root = _create_dummy_node()"
   ]
  },
  {
   "cell_type": "code",
   "execution_count": 14,
   "id": "bd49a1eb",
   "metadata": {},
   "outputs": [
    {
     "data": {
      "text/plain": [
       "[Node(3, left=None, right=None, parent=Node(1)),\n",
       " Node(1, left=Node(3), right=Node(4), parent=Node(0)),\n",
       " Node(4, left=None, right=None, parent=Node(1)),\n",
       " Node(0, left=Node(1), right=Node(2), parent=None),\n",
       " Node(2, left=None, right=None, parent=Node(0))]"
      ]
     },
     "execution_count": 14,
     "metadata": {},
     "output_type": "execute_result"
    }
   ],
   "source": [
    "from typing import Generator\n",
    "\n",
    "\n",
    "def dfs_inorder(node: Node) -> Generator[Node, None, None]:\n",
    "    \"\"\"Depth-first search.\n",
    "    \n",
    "    Visits left subtree, then node, then right subtree\n",
    "    \"\"\"\n",
    "    if node.left:\n",
    "        yield from dfs_inorder(node.left)\n",
    "    yield node\n",
    "    if node.right:\n",
    "        yield from dfs_inorder(node.right)\n",
    "\n",
    "list(dfs_inorder(root))"
   ]
  },
  {
   "cell_type": "code",
   "execution_count": 15,
   "id": "ccc4e679",
   "metadata": {},
   "outputs": [
    {
     "data": {
      "text/plain": [
       "[Node(0, left=Node(1), right=Node(2), parent=None),\n",
       " Node(1, left=Node(3), right=Node(4), parent=Node(0)),\n",
       " Node(3, left=None, right=None, parent=Node(1)),\n",
       " Node(4, left=None, right=None, parent=Node(1)),\n",
       " Node(2, left=None, right=None, parent=Node(0))]"
      ]
     },
     "execution_count": 15,
     "metadata": {},
     "output_type": "execute_result"
    }
   ],
   "source": [
    "def dfs_preorder(node: Node) -> Generator[Node, None, None]:\n",
    "    \"\"\"Depth-first search.\n",
    "\n",
    "    Visits the node, then left subtree, then right subtree.\n",
    "    \"\"\"\n",
    "    yield node\n",
    "    if node.left:\n",
    "        yield from dfs_preorder(node.left)\n",
    "    if node.right:\n",
    "        yield from dfs_preorder(node.right)\n",
    "list(dfs_preorder(root))"
   ]
  },
  {
   "cell_type": "code",
   "execution_count": 16,
   "id": "abd3e09e",
   "metadata": {},
   "outputs": [
    {
     "data": {
      "text/plain": [
       "[Node(3, left=None, right=None, parent=Node(1)),\n",
       " Node(4, left=None, right=None, parent=Node(1)),\n",
       " Node(1, left=Node(3), right=Node(4), parent=Node(0)),\n",
       " Node(2, left=None, right=None, parent=Node(0)),\n",
       " Node(0, left=Node(1), right=Node(2), parent=None)]"
      ]
     },
     "execution_count": 16,
     "metadata": {},
     "output_type": "execute_result"
    }
   ],
   "source": [
    "def dfs_postorder(node: Node) -> Generator[Node, None, None]:\n",
    "    \"\"\"Depth-first search.\n",
    "\n",
    "    Visits the left subtree, then right subtree, then the node\n",
    "    \"\"\"\n",
    "    if node.left:\n",
    "        yield from dfs_postorder(node.left)\n",
    "    if node.right:\n",
    "        yield from dfs_postorder(node.right)\n",
    "    yield node\n",
    "list(dfs_postorder(root))"
   ]
  },
  {
   "cell_type": "markdown",
   "id": "59aceb7a",
   "metadata": {},
   "source": [
    "#### BFS\n",
    "\n",
    "> Implemented using a queue"
   ]
  },
  {
   "cell_type": "code",
   "execution_count": 17,
   "id": "48966877",
   "metadata": {},
   "outputs": [
    {
     "data": {
      "text/plain": [
       "[Node(0, left=Node(1), right=Node(2), parent=None),\n",
       " Node(1, left=Node(3), right=Node(4), parent=Node(0)),\n",
       " Node(2, left=None, right=None, parent=Node(0)),\n",
       " Node(3, left=None, right=None, parent=Node(1)),\n",
       " Node(4, left=None, right=None, parent=Node(1))]"
      ]
     },
     "execution_count": 17,
     "metadata": {},
     "output_type": "execute_result"
    }
   ],
   "source": [
    "from collections import deque\n",
    "def bfs(node: Node) -> Generator[Node, None, None]:\n",
    "    \"\"\"Breadth-first search.\"\"\"\n",
    "    queue = deque([node])\n",
    "    while queue:\n",
    "        node = queue.popleft()\n",
    "        yield node\n",
    "        if node.left:\n",
    "            queue.append(node.left)\n",
    "        if node.right:\n",
    "            queue.append(node.right)\n",
    "list(bfs(root))"
   ]
  },
  {
   "cell_type": "markdown",
   "id": "66638ea8",
   "metadata": {},
   "source": [
    "### Insertion\n",
    "\n",
    "Insertion uses BFS to find the first child node without a child."
   ]
  },
  {
   "cell_type": "code",
   "execution_count": 18,
   "id": "32b515ae",
   "metadata": {},
   "outputs": [
    {
     "data": {
      "image/png": "[encoded data removed]",
      "text/plain": [
       "<Figure size 300x200 with 1 Axes>"
      ]
     },
     "metadata": {},
     "output_type": "display_data"
    },
    {
     "data": {
      "image/png": "[encoded data removed]",
      "text/plain": [
       "<Figure size 300x200 with 1 Axes>"
      ]
     },
     "metadata": {},
     "output_type": "display_data"
    }
   ],
   "source": [
    "def insert_node(root: Node, key):\n",
    "    \"\"\"\"\"\"\n",
    "    queue = deque([root])\n",
    "    while queue:\n",
    "        node = queue.popleft()\n",
    "        if node.left:\n",
    "            queue.append(node.left)\n",
    "        else:\n",
    "            node.left = Node(key=key, left=None, right=None, parent=node)\n",
    "            break\n",
    "\n",
    "        if node.right:\n",
    "            queue.append(node.right)\n",
    "        else:\n",
    "            node.right = Node(key=key, left=None, right=None, parent=node)\n",
    "            break\n",
    "    \n",
    "root = _create_dummy_node()\n",
    "visualize_tree(root)\n",
    "insert_node(root, \"new1\")\n",
    "insert_node(root, \"new2\")\n",
    "insert_node(root, \"new3\")\n",
    "insert_node(root, \"new4\")\n",
    "visualize_tree(root)"
   ]
  },
  {
   "cell_type": "markdown",
   "id": "f380d799",
   "metadata": {},
   "source": [
    "### Search"
   ]
  },
  {
   "cell_type": "code",
   "execution_count": 19,
   "id": "975406ae",
   "metadata": {},
   "outputs": [
    {
     "data": {
      "text/plain": [
       "(Node(1, left=Node(3), right=Node(4), parent=Node(0)),\n",
       " Node(2, left=None, right=None, parent=Node(0)),\n",
       " Node(3, left=None, right=None, parent=Node(1)),\n",
       " Node(4, left=None, right=None, parent=Node(1)),\n",
       " None)"
      ]
     },
     "execution_count": 19,
     "metadata": {},
     "output_type": "execute_result"
    }
   ],
   "source": [
    "from typing import Callable\n",
    "\n",
    "\n",
    "def search_tree(root: Node, key, traversal_func: Callable[[Node], Generator[Node, None, None]]) -> Node|None:\n",
    "    for node in traversal_func(root):\n",
    "        if node.value == key:\n",
    "            return node\n",
    "    else:\n",
    "        return None\n",
    "\n",
    "root = _create_dummy_node()\n",
    "(\n",
    "    search_tree(root, 1, dfs_inorder),\n",
    "    search_tree(root, 2, dfs_preorder),\n",
    "    search_tree(root, 3, dfs_postorder),\n",
    "    search_tree(root, 4, bfs),\n",
    "    search_tree(root, 5, dfs_inorder),\n",
    ")"
   ]
  },
  {
   "cell_type": "markdown",
   "id": "f19d1881",
   "metadata": {},
   "source": [
    "### Deletion\n",
    "\n",
    "Deleting a node requires choosing a traversal method, finding the node to delete, then promoting another node to the level of the parent node to preserve the tree's structure. The simplest solution is to replace the deleted node with the right-most node in the tree. If the node to delete is the right-most node, just delete it.\n",
    "\n",
    "The first step is to identify the right-most node, then compare it with the node to delete, then delete the node and swap it with the right-most node.\n",
    "\n",
    "> Note: any node can be swapped to preserve the tree structure, but if you want to maintain order of a BST, you need to choose the node that will preserve BST constraints."
   ]
  },
  {
   "cell_type": "code",
   "execution_count": 20,
   "id": "044034ef",
   "metadata": {},
   "outputs": [
    {
     "data": {
      "image/png": "[encoded data removed]",
      "text/plain": [
       "<Figure size 300x200 with 1 Axes>"
      ]
     },
     "metadata": {},
     "output_type": "display_data"
    },
    {
     "data": {
      "image/png": "[encoded data removed]",
      "text/plain": [
       "<Figure size 300x200 with 1 Axes>"
      ]
     },
     "metadata": {},
     "output_type": "display_data"
    },
    {
     "name": "stdout",
     "output_type": "stream",
     "text": [
      "Empty tree\n"
     ]
    },
    {
     "data": {
      "image/png": "[encoded data removed]",
      "text/plain": [
       "<Figure size 300x200 with 1 Axes>"
      ]
     },
     "metadata": {},
     "output_type": "display_data"
    }
   ],
   "source": [
    "def delete_node(root: Node, key=None) -> Node|None:\n",
    "    \"\"\"Uses BFS to delete the node with a key and swap it with the right-most node.\"\"\"\n",
    "\n",
    "    # if root has no children\n",
    "    if root.left or root.right:\n",
    "        pass\n",
    "    else:\n",
    "        del root\n",
    "        return None\n",
    "\n",
    "    # find the deepest root node and its parent\n",
    "    queue: deque[tuple[Node, Node|None]] = deque([(root, None)])  # root has no parent\n",
    "    last_parent = None\n",
    "    last_node = None\n",
    "    while queue:\n",
    "        last_node, last_parent = queue.popleft()\n",
    "        if last_node.left:\n",
    "            queue.append((last_node.left, last_node))\n",
    "        if last_node.right:\n",
    "            queue.append((last_node.right, last_node))\n",
    "\n",
    "    # delete the leaf node\n",
    "    if last_parent:\n",
    "        if last_parent.right:\n",
    "            last_parent.right = None\n",
    "        elif last_parent.left:\n",
    "            last_parent.left = None\n",
    "    else:\n",
    "        raise NotImplementedError(\"Parent of right-most node not found.\")\n",
    "    \n",
    "    # find the node with value == key\n",
    "    if last_node and root.value == key:\n",
    "        last_node.left = root.left\n",
    "        last_node.right = root.right\n",
    "        del root\n",
    "        return last_node\n",
    "    elif last_node:\n",
    "        pass\n",
    "    else:\n",
    "        raise NotImplementedError\n",
    "\n",
    "    target_queue: deque[Node] = deque([root])\n",
    "    while target_queue:\n",
    "        node = target_queue.popleft()\n",
    "        if node.left:\n",
    "            if node.left is last_node:\n",
    "                node.left = None\n",
    "                return root\n",
    "            elif node.left.value == key:\n",
    "                node.left = last_node\n",
    "                last_node.parent = node\n",
    "                return root\n",
    "            target_queue.append(node.left)\n",
    "        if node.right:\n",
    "            if node.right is last_node:\n",
    "                node.right = None\n",
    "                return root\n",
    "            elif node.right.value == key:\n",
    "                node.right = last_node\n",
    "                last_node.parent = node\n",
    "                return root\n",
    "            target_queue.append(node.right)\n",
    "    return root\n",
    "\n",
    "visualize_tree(_create_dummy_node())\n",
    "visualize_tree(\n",
    "    delete_node(\n",
    "        delete_node(\n",
    "            _create_dummy_node(),\n",
    "            2\n",
    "        ),  # type: ignore\n",
    "        5\n",
    "    )\n",
    ")\n",
    "visualize_tree(\n",
    "    delete_node(Node(1), 1)\n",
    ")\n",
    "visualize_tree(\n",
    "    delete_node(Node(1, left=Node(2)), 1)\n",
    ")\n",
    "      "
   ]
  },
  {
   "cell_type": "markdown",
   "id": "3d9567ab",
   "metadata": {},
   "source": [
    "## Types of binary trees\n",
    "\n",
    "- By children\n",
    "  - Full\n",
    "  - Degenerate\n",
    "  - Skewed\n",
    "- By levels\n",
    "  - Complete\n",
    "  - Perfect\n",
    "  - Balanced\n",
    "- By values\n",
    "  - Binary search tree\n",
    "  - AVL\n",
    "  - Red Black\n",
    "  - B\n",
    "  - B+\n",
    "  - Segment"
   ]
  },
  {
   "cell_type": "code",
   "execution_count": 21,
   "id": "675ff531",
   "metadata": {},
   "outputs": [],
   "source": [
    "#| hide\n",
    "import nbdev; nbdev.nbdev_export()"
   ]
  }
 ],
 "metadata": {
  "kernelspec": {
   "display_name": ".venv",
   "language": "python",
   "name": "python3"
  },
  "language_info": {
   "codemirror_mode": {
    "name": "ipython",
    "version": 3
   },
   "file_extension": ".py",
   "mimetype": "text/x-python",
   "name": "python",
   "nbconvert_exporter": "python",
   "pygments_lexer": "ipython3",
   "version": "3.13.0"
  }
 },
 "nbformat": 4,
 "nbformat_minor": 5
}
