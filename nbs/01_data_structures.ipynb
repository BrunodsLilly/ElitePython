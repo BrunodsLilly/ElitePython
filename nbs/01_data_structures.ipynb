{
 "cells": [
  {
   "cell_type": "markdown",
   "id": "c8e2cb1a",
   "metadata": {},
   "source": [
    "# data_structures\n",
    "\n",
    "> Fill in a module description here"
   ]
  },
  {
   "cell_type": "code",
   "execution_count": 84,
   "id": "5fa06a09",
   "metadata": {},
   "outputs": [],
   "source": [
    "#| default_exp data_structures"
   ]
  },
  {
   "cell_type": "code",
   "execution_count": 85,
   "id": "9bd3c8a7",
   "metadata": {},
   "outputs": [],
   "source": [
    "#| hide\n",
    "from nbdev.showdoc import *\n",
    "from fastcore.test import *"
   ]
  },
  {
   "cell_type": "code",
   "execution_count": 86,
   "id": "3571bcd0",
   "metadata": {},
   "outputs": [],
   "source": [
    "from collections import deque\n",
    "import matplotlib.pyplot as plt\n",
    "import networkx as nx"
   ]
  },
  {
   "cell_type": "markdown",
   "id": "79ae0c2f",
   "metadata": {},
   "source": [
    "## Utility functions"
   ]
  },
  {
   "cell_type": "code",
   "execution_count": 87,
   "id": "f8001c11",
   "metadata": {},
   "outputs": [],
   "source": [
    "def visualize_tree(root):\n",
    "    if not root:\n",
    "        print(\"Empty tree\")\n",
    "        return\n",
    "    \n",
    "    G = nx.DiGraph()\n",
    "    pos = {}\n",
    "    labels = {}\n",
    "    node_id = 0\n",
    "    \n",
    "    def add_nodes(node, x=0.0, y=0.0, layer=1):\n",
    "        nonlocal node_id\n",
    "        if node:\n",
    "            current_id = node_id\n",
    "            node_id += 1\n",
    "            G.add_node(current_id)\n",
    "            pos[current_id] = (x, y)\n",
    "            labels[current_id] = str(node.value)\n",
    "            \n",
    "            if node.left:\n",
    "                left_id = node_id\n",
    "                G.add_edge(current_id, left_id)\n",
    "                add_nodes(node.left, x - 1/layer, y - 1, layer + 1)\n",
    "            if node.right:\n",
    "                right_id = node_id\n",
    "                G.add_edge(current_id, right_id)\n",
    "                add_nodes(node.right, x + 1/layer, y - 1, layer + 1)\n",
    "            \n",
    "            return current_id\n",
    "    \n",
    "    add_nodes(root)\n",
    "    \n",
    "    plt.figure(figsize=(3, 2))\n",
    "    nx.draw(G, pos, labels=labels, with_labels=True, node_color='lightblue', \n",
    "            node_size=1000, font_size=16, font_weight='bold', arrows=True)\n",
    "    plt.title(\"Binary Tree Visualization\")\n",
    "    plt.show()"
   ]
  },
  {
   "cell_type": "markdown",
   "id": "8137eaf8",
   "metadata": {},
   "source": [
    "## Binary Trees\n",
    "\n",
    "> Classes and methods for operating with Binary Search Trees.\n",
    "\n",
    "A Binary Search Tree is a hierarchical data structure compose of nodes, where each node has at most two child nodes.\n",
    "Binary Trees are used for efficient data storage and support insertions, deletions, and traversals. These operations have a worst-case complexity of O(n). Balanced trees have a time complexity of O(logn).\n",
    "\n",
    "![The Anatomy of a Binary Tree](https://media.geeksforgeeks.org/wp-content/uploads/20240811023816/Introduction-to-Binary-Tree.webp)\n"
   ]
  },
  {
   "cell_type": "markdown",
   "id": "19001ea8",
   "metadata": {},
   "source": [
    "Each node in a binary tree has three parts:\n",
    "- Data\n",
    "- Pointer to the left child\n",
    "- Pointer to the right child\n",
    "\n",
    "![Figure of a node](https://media.geeksforgeeks.org/wp-content/uploads/20240811023858/Binary-Tree-Representation.webp)"
   ]
  },
  {
   "cell_type": "markdown",
   "id": "1e051b30",
   "metadata": {},
   "source": [
    "Creating a Node"
   ]
  },
  {
   "cell_type": "code",
   "execution_count": 88,
   "id": "7f0902d1",
   "metadata": {},
   "outputs": [],
   "source": [
    "class Node:\n",
    "    \"\"\"A node in a binary tree.\"\"\"\n",
    "    def __init__(self, key, left: \"Node|None\"=None, right: \"Node|None\"=None):\n",
    "        self.value = key\n",
    "        self.left: Node|None = left\n",
    "        self.right: Node|None = right\n",
    "    \n",
    "    def __str__(self) -> str:\n",
    "        \"\"\"A string representation of the node including its value, left, and right children.\"\"\"\n",
    "        left_value = f\"Node({self.left.value})\" if self.left else None\n",
    "        right_value = f\"Node({self.right.value})\" if self.right else None\n",
    "        return f\"Node({self.value}, left={left_value}, right={right_value})\"\n",
    "\n",
    "    def __repr__(self) -> str:\n",
    "        \"\"\"A representation of the node including its value, left, and right children.\"\"\"\n",
    "        return self.__str__()"
   ]
  },
  {
   "cell_type": "markdown",
   "id": "47d85193",
   "metadata": {},
   "source": [
    "Creating a binary tree requires creating a set of nodes."
   ]
  },
  {
   "cell_type": "code",
   "execution_count": 89,
   "id": "29b62cf4",
   "metadata": {},
   "outputs": [
    {
     "data": {
      "text/plain": [
       "Node(1, left=None, right=None)"
      ]
     },
     "execution_count": 89,
     "metadata": {},
     "output_type": "execute_result"
    }
   ],
   "source": [
    "node1 = Node(1)\n",
    "node1"
   ]
  },
  {
   "cell_type": "code",
   "execution_count": 90,
   "id": "d3cb484a",
   "metadata": {},
   "outputs": [
    {
     "data": {
      "text/plain": [
       "Node(1, left=Node(2), right=Node(3))"
      ]
     },
     "execution_count": 90,
     "metadata": {},
     "output_type": "execute_result"
    }
   ],
   "source": [
    "root_node = (\n",
    "    Node(1,\n",
    "        Node(2,\n",
    "                Node(4,\n",
    "                    Node(8),\n",
    "                    Node(9)\n",
    "                ),\n",
    "                Node(5,\n",
    "                    Node(10),\n",
    "                    Node(11)\n",
    "                )\n",
    "        ),\n",
    "        Node(3,\n",
    "                Node(6,\n",
    "                    Node(12),\n",
    "                    Node(13)\n",
    "                ),\n",
    "                Node(7,\n",
    "                    Node(14),\n",
    "                    Node(15)\n",
    "                )\n",
    "        )\n",
    "    )\n",
    ")\n",
    "root_node"
   ]
  },
  {
   "cell_type": "markdown",
   "id": "d7a9f82c",
   "metadata": {},
   "source": [
    "Terminology:\n",
    "\n",
    "- Node: an object with a value, a left node, and a child node.\n",
    "- Child: a left or right node.\n",
    "- Parent: a node that has a child node.\n",
    "- Root: the topmost node in a set of nodes; it does not have a parent.\n",
    "- Leaf: a node with a parent node and no child nodes.\n",
    "- Internal: a node with at least one child node.\n",
    "- Depth: the number of edges from a node to its root.\n",
    "- Height: the Depth of the deepest leaf node."
   ]
  },
  {
   "cell_type": "code",
   "execution_count": 91,
   "id": "46a890ed",
   "metadata": {},
   "outputs": [],
   "source": [
    "class Node:\n",
    "    \"\"\"A node in a binary tree.\"\"\"\n",
    "    def __init__(self, key, left: \"Node|None\"=None, right: \"Node|None\"=None, parent: \"Node|None\" = None):\n",
    "        self.value = key\n",
    "        self.parent: Node|None = parent\n",
    "        self.left: Node|None = left\n",
    "        self.right: Node|None = right\n",
    "    \n",
    "    def __str__(self) -> str:\n",
    "        \"\"\"A string representation of the node including its value, left, and right children.\"\"\"\n",
    "        left_value = f\"Node({self.left.value})\" if self.left else None\n",
    "        right_value = f\"Node({self.right.value})\" if self.right else None\n",
    "        return f\"Node({self.value}, left={left_value}, right={right_value})\"\n",
    "\n",
    "    def __repr__(self) -> str:\n",
    "        \"\"\"A representation of the node including its value, left, and right children.\"\"\"\n",
    "        return self.__str__()\n",
    "\n",
    "    @property\n",
    "    def height(self) -> int:\n",
    "        return 1 + max(\n",
    "            (self.left.height if self.left else 0), (self.right.height if self.right else 0)\n",
    "        )\n",
    "    \n",
    "    @property\n",
    "    def depth(self) -> int:\n",
    "        return 1 + (self.parent.depth if self.parent else 0)\n"
   ]
  },
  {
   "cell_type": "code",
   "execution_count": 92,
   "id": "d519c384",
   "metadata": {},
   "outputs": [],
   "source": [
    "def set_parents(node: Node, parent: Node|None=None) -> Node:\n",
    "    \"\"\"Set parent nodes given a root node.\"\"\"\n",
    "    if parent:\n",
    "        node.parent = parent\n",
    "    if node.left:\n",
    "        set_parents(node.left, node)\n",
    "    if node.right:\n",
    "        set_parents(node.right, node)\n",
    "    return node"
   ]
  },
  {
   "cell_type": "code",
   "execution_count": 93,
   "id": "d2d65695",
   "metadata": {},
   "outputs": [
    {
     "data": {
      "text/plain": [
       "(None, 4, 1)"
      ]
     },
     "execution_count": 93,
     "metadata": {},
     "output_type": "execute_result"
    }
   ],
   "source": [
    "root_node = set_parents(\n",
    "    Node(1,\n",
    "        Node(2,\n",
    "                Node(4,\n",
    "                    Node(8),\n",
    "                    Node(9)\n",
    "                ),\n",
    "                Node(5,\n",
    "                    Node(10),\n",
    "                    Node(11)\n",
    "                )\n",
    "        ),\n",
    "        Node(3,\n",
    "                Node(6,\n",
    "                    Node(12),\n",
    "                    Node(13)\n",
    "                ),\n",
    "                Node(7,\n",
    "                    Node(14),\n",
    "                    Node(15)\n",
    "                )\n",
    "        )\n",
    "    )\n",
    ")\n",
    "root_node.parent, root_node.height, root_node.depth\n"
   ]
  },
  {
   "cell_type": "code",
   "execution_count": 94,
   "id": "275b948a",
   "metadata": {},
   "outputs": [
    {
     "name": "stdout",
     "output_type": "stream",
     "text": [
      "Node(2, left=Node(4), right=Node(5)) depth: 2\n"
     ]
    }
   ],
   "source": [
    "if root_node.left:\n",
    "    print(root_node.left, \"depth:\", root_node.left.depth)"
   ]
  },
  {
   "cell_type": "markdown",
   "id": "96579049",
   "metadata": {},
   "source": [
    "Properties of a binary tree:\n",
    "\n",
    "- Max nodes: $2^H - 1$\n",
    "- Max nodes in a level: $2^L$\n",
    "- Min height is $log_2(n+1)$"
   ]
  },
  {
   "cell_type": "markdown",
   "id": "388db4da",
   "metadata": {},
   "source": [
    "## Operations on a binary tree\n",
    "\n",
    "- Traversal:\n",
    "  - Visiting all nodes in a binary tree.\n",
    "  - Depth-First Search:\n",
    "    - preorder\n",
    "    - inorder\n",
    "    - postorder\n",
    "  - Breadth-First Search:\n",
    "    - level\n",
    "- Insertion\n",
    "- Deletion"
   ]
  },
  {
   "cell_type": "markdown",
   "id": "4565c28e",
   "metadata": {},
   "source": [
    "### Traversal"
   ]
  },
  {
   "cell_type": "code",
   "execution_count": 95,
   "id": "2dc301a0",
   "metadata": {},
   "outputs": [],
   "source": [
    "def _create_dummy_node() -> Node:\n",
    "    root = Node(2)\n",
    "    root.left = Node(3)\n",
    "    root.right = Node(4)\n",
    "    root.left.left = Node(5)\n",
    "    return root"
   ]
  },
  {
   "cell_type": "markdown",
   "id": "0e5f8035",
   "metadata": {},
   "source": [
    "#### DFS\n",
    "\n",
    "> Implemented using recursion"
   ]
  },
  {
   "cell_type": "code",
   "execution_count": 96,
   "id": "4aef6b4a",
   "metadata": {},
   "outputs": [],
   "source": [
    "root = _create_dummy_node()"
   ]
  },
  {
   "cell_type": "code",
   "execution_count": 97,
   "id": "bd49a1eb",
   "metadata": {},
   "outputs": [
    {
     "name": "stdout",
     "output_type": "stream",
     "text": [
      "5 3 2 4 "
     ]
    }
   ],
   "source": [
    "def dfs_inorder(node: Node) -> None:\n",
    "    \"\"\"Depth-first search.\n",
    "    \n",
    "    Visits left subtree, then node, then right subtree\n",
    "    \"\"\"\n",
    "    if node.left:\n",
    "        dfs_inorder(node.left)\n",
    "    print(node.value, end=\" \")\n",
    "    if node.right:\n",
    "        dfs_inorder(node.right)\n",
    "\n",
    "dfs_inorder(root)"
   ]
  },
  {
   "cell_type": "code",
   "execution_count": 98,
   "id": "ccc4e679",
   "metadata": {},
   "outputs": [
    {
     "name": "stdout",
     "output_type": "stream",
     "text": [
      "2 3 5 4 "
     ]
    }
   ],
   "source": [
    "def dfs_preorder(node: Node) -> None:\n",
    "    \"\"\"Depth-first search.\n",
    "\n",
    "    Visits the node, then left subtree, then right subtree.\n",
    "    \"\"\"\n",
    "    print(node.value, end=\" \")\n",
    "    if node.left:\n",
    "        dfs_preorder(node.left)\n",
    "    if node.right:\n",
    "        dfs_preorder(node.right)\n",
    "dfs_preorder(root)"
   ]
  },
  {
   "cell_type": "code",
   "execution_count": 99,
   "id": "abd3e09e",
   "metadata": {},
   "outputs": [
    {
     "name": "stdout",
     "output_type": "stream",
     "text": [
      "5 3 4 2 "
     ]
    }
   ],
   "source": [
    "def dfs_postorder(node: Node) -> None:\n",
    "    \"\"\"Depth-first search.\n",
    "\n",
    "    Visits the left subtree, then right subtree, then the node\n",
    "    \"\"\"\n",
    "    if node.left:\n",
    "        dfs_postorder(node.left)\n",
    "    if node.right:\n",
    "        dfs_postorder(node.right)\n",
    "    print(node.value, end=\" \")\n",
    "dfs_postorder(root)"
   ]
  },
  {
   "cell_type": "markdown",
   "id": "59aceb7a",
   "metadata": {},
   "source": [
    "#### BFS\n",
    "\n",
    "> Implemented using a queue"
   ]
  },
  {
   "cell_type": "code",
   "execution_count": 100,
   "id": "48966877",
   "metadata": {},
   "outputs": [
    {
     "name": "stdout",
     "output_type": "stream",
     "text": [
      "2 3 4 5 "
     ]
    }
   ],
   "source": [
    "from collections import deque\n",
    "def bfs(node: Node) -> None:\n",
    "    \"\"\"Breadth-first search.\"\"\"\n",
    "    queue = deque([node])\n",
    "    while queue:\n",
    "        node = queue.popleft()\n",
    "        print(node.value, end=\" \")\n",
    "        if node.left:\n",
    "            queue.append(node.left)\n",
    "        if node.right:\n",
    "            queue.append(node.right)\n",
    "bfs(root)"
   ]
  },
  {
   "cell_type": "markdown",
   "id": "66638ea8",
   "metadata": {},
   "source": [
    "### Insertion\n",
    "\n",
    "Insertion uses BFS to find the first child node without a child."
   ]
  },
  {
   "cell_type": "code",
   "execution_count": 107,
   "id": "32b515ae",
   "metadata": {},
   "outputs": [
    {
     "data": {
      "image/png": "[encoded data removed]",
      "text/plain": [
       "<Figure size 300x200 with 1 Axes>"
      ]
     },
     "metadata": {},
     "output_type": "display_data"
    },
    {
     "data": {
      "image/png": "[encoded data removed]",
      "text/plain": [
       "<Figure size 300x200 with 1 Axes>"
      ]
     },
     "metadata": {},
     "output_type": "display_data"
    }
   ],
   "source": [
    "def insert_node(root: Node, key):\n",
    "    \"\"\"\"\"\"\n",
    "    queue = deque([root])\n",
    "    while queue:\n",
    "        node = queue.popleft()\n",
    "        if node.left:\n",
    "            queue.append(node.left)\n",
    "        else:\n",
    "            node.left = Node(key=key, left=None, right=None, parent=node)\n",
    "            break\n",
    "\n",
    "        if node.right:\n",
    "            queue.append(node.right)\n",
    "        else:\n",
    "            node.right = Node(key=key, left=None, right=None, parent=node)\n",
    "            break\n",
    "    \n",
    "root = _create_dummy_node()\n",
    "visualize_tree(root)\n",
    "insert_node(root, \"new1\")\n",
    "insert_node(root, \"new2\")\n",
    "insert_node(root, \"new3\")\n",
    "insert_node(root, \"new4\")\n",
    "visualize_tree(root)"
   ]
  },
  {
   "cell_type": "markdown",
   "id": "f19d1881",
   "metadata": {},
   "source": [
    "### Deletion\n",
    "\n",
    "Deleting a node requires choosing a traversal method, finding the node to delete, then promoting a child node to the level of the parent node to preserve the tree's structure"
   ]
  },
  {
   "cell_type": "code",
   "execution_count": null,
   "id": "044034ef",
   "metadata": {},
   "outputs": [],
   "source": []
  },
  {
   "cell_type": "markdown",
   "id": "771e2ed3",
   "metadata": {},
   "source": [
    "### Search"
   ]
  },
  {
   "cell_type": "markdown",
   "id": "3d9567ab",
   "metadata": {},
   "source": [
    "## Types of binary trees\n",
    "\n",
    "- By children\n",
    "  - Full\n",
    "  - Degenerate\n",
    "  - Skewed\n",
    "- By levels\n",
    "  - Complete\n",
    "  - Perfect\n",
    "  - Balanced\n",
    "- By values\n",
    "  - Binary search tree\n",
    "  - AVL\n",
    "  - Red Black\n",
    "  - B\n",
    "  - B+\n",
    "  - Segment"
   ]
  },
  {
   "cell_type": "code",
   "execution_count": 102,
   "id": "675ff531",
   "metadata": {},
   "outputs": [],
   "source": [
    "#| hide\n",
    "import nbdev; nbdev.nbdev_export()"
   ]
  }
 ],
 "metadata": {
  "kernelspec": {
   "display_name": ".venv",
   "language": "python",
   "name": "python3"
  },
  "language_info": {
   "codemirror_mode": {
    "name": "ipython",
    "version": 3
   },
   "file_extension": ".py",
   "mimetype": "text/x-python",
   "name": "python",
   "nbconvert_exporter": "python",
   "pygments_lexer": "ipython3",
   "version": "3.13.0"
  }
 },
 "nbformat": 4,
 "nbformat_minor": 5
}
